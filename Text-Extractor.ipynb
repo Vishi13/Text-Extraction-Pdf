{
 "cells": [
  {
   "cell_type": "code",
   "execution_count": 8,
   "metadata": {},
   "outputs": [
    {
     "name": "stderr",
     "output_type": "stream",
     "text": [
      "[nltk_data] Downloading package punkt to C:\\Users\\sanyam\n",
      "[nltk_data]     jain\\AppData\\Roaming\\nltk_data...\n",
      "[nltk_data]   Package punkt is already up-to-date!\n"
     ]
    },
    {
     "ename": "PermissionError",
     "evalue": "[Errno 13] Permission denied: 'D:\\\\python program\\\\Pdfs'",
     "output_type": "error",
     "traceback": [
      "\u001b[1;31m---------------------------------------------------------------------------\u001b[0m",
      "\u001b[1;31mPermissionError\u001b[0m                           Traceback (most recent call last)",
      "\u001b[1;32m<ipython-input-8-0fd29114f5b7>\u001b[0m in \u001b[0;36m<module>\u001b[1;34m\u001b[0m\n\u001b[0;32m     14\u001b[0m \u001b[0minput_path\u001b[0m \u001b[1;33m=\u001b[0m \u001b[1;34m'D:\\\\python program\\\\Pdfs'\u001b[0m\u001b[1;33m\u001b[0m\u001b[1;33m\u001b[0m\u001b[0m\n\u001b[0;32m     15\u001b[0m \u001b[1;33m\u001b[0m\u001b[0m\n\u001b[1;32m---> 16\u001b[1;33m \u001b[0mpdfFileObj\u001b[0m \u001b[1;33m=\u001b[0m \u001b[0mopen\u001b[0m\u001b[1;33m(\u001b[0m\u001b[0minput_path\u001b[0m\u001b[1;33m,\u001b[0m \u001b[1;34m'rb'\u001b[0m\u001b[1;33m)\u001b[0m \u001b[1;31m#read pdf file\u001b[0m\u001b[1;33m\u001b[0m\u001b[1;33m\u001b[0m\u001b[0m\n\u001b[0m\u001b[0;32m     17\u001b[0m \u001b[0mpdfReader\u001b[0m \u001b[1;33m=\u001b[0m \u001b[0mPyPDF2\u001b[0m\u001b[1;33m.\u001b[0m\u001b[0mPdfFileReader\u001b[0m\u001b[1;33m(\u001b[0m\u001b[0mpdfFileObj\u001b[0m\u001b[1;33m)\u001b[0m\u001b[1;33m\u001b[0m\u001b[1;33m\u001b[0m\u001b[0m\n\u001b[0;32m     18\u001b[0m \u001b[0mnumpage\u001b[0m \u001b[1;33m=\u001b[0m \u001b[0mpdfReader\u001b[0m\u001b[1;33m.\u001b[0m\u001b[0mnumPages\u001b[0m \u001b[1;31m#total number of pages\u001b[0m\u001b[1;33m\u001b[0m\u001b[1;33m\u001b[0m\u001b[0m\n",
      "\u001b[1;31mPermissionError\u001b[0m: [Errno 13] Permission denied: 'D:\\\\python program\\\\Pdfs'"
     ]
    }
   ],
   "source": [
    "import PyPDF2\n",
    "from nltk.tokenize import word_tokenize\n",
    "from nltk.corpus import stopwords\n",
    "from tabula import read_pdf\n",
    "import pandas as pd\n",
    "import csv \n",
    "import nltk\n",
    "\n",
    "\n",
    "nltk.download('punkt')\n",
    "\n",
    "\n",
    "\n",
    "input_path = 'D:\\\\python program\\\\Pdfs'\n",
    "\n",
    "pdfFileObj = open(input_path, 'rb') #read pdf file\n",
    "pdfReader = PyPDF2.PdfFileReader(pdfFileObj)\n",
    "numpage = pdfReader.numPages #total number of pages\n",
    "# page_strt=256 #page where result of particular start\n",
    "table_pdf = read_pdf(input_path, guess=False, pages = 1, stream=True , encoding=\"utf-8\", area = (96,24,558,750), columns = (24,127,220,274,298,325,343,364,459,545,591,748))\n"
   ]
  },
  {
   "cell_type": "code",
   "execution_count": 7,
   "metadata": {},
   "outputs": [
    {
     "ename": "NameError",
     "evalue": "name 'pdfReader' is not defined",
     "output_type": "error",
     "traceback": [
      "\u001b[1;31m---------------------------------------------------------------------------\u001b[0m",
      "\u001b[1;31mNameError\u001b[0m                                 Traceback (most recent call last)",
      "\u001b[1;32m<ipython-input-7-06f5832a4ab4>\u001b[0m in \u001b[0;36m<module>\u001b[1;34m\u001b[0m\n\u001b[0;32m      2\u001b[0m \u001b[0mtext\u001b[0m\u001b[1;33m=\u001b[0m\u001b[1;34m\"\"\u001b[0m\u001b[1;33m\u001b[0m\u001b[1;33m\u001b[0m\u001b[0m\n\u001b[0;32m      3\u001b[0m \u001b[0msubject\u001b[0m\u001b[1;33m=\u001b[0m\u001b[1;34m\"\"\u001b[0m\u001b[1;33m\u001b[0m\u001b[1;33m\u001b[0m\u001b[0m\n\u001b[1;32m----> 4\u001b[1;33m \u001b[0mpageObj1\u001b[0m\u001b[1;33m=\u001b[0m\u001b[0mpdfReader\u001b[0m\u001b[1;33m.\u001b[0m\u001b[0mgetPage\u001b[0m\u001b[1;33m(\u001b[0m\u001b[0mpage_strt\u001b[0m\u001b[1;33m)\u001b[0m\u001b[1;33m\u001b[0m\u001b[1;33m\u001b[0m\u001b[0m\n\u001b[0m\u001b[0;32m      5\u001b[0m \u001b[0msubject\u001b[0m\u001b[1;33m+=\u001b[0m\u001b[0mpageObj1\u001b[0m\u001b[1;33m.\u001b[0m\u001b[0mextractText\u001b[0m\u001b[1;33m(\u001b[0m\u001b[1;33m)\u001b[0m\u001b[1;33m\u001b[0m\u001b[1;33m\u001b[0m\u001b[0m\n\u001b[0;32m      6\u001b[0m \u001b[0mtokens\u001b[0m\u001b[1;33m=\u001b[0m\u001b[0mword_tokenize\u001b[0m\u001b[1;33m(\u001b[0m\u001b[0msubject\u001b[0m\u001b[1;33m)\u001b[0m\u001b[1;33m\u001b[0m\u001b[1;33m\u001b[0m\u001b[0m\n",
      "\u001b[1;31mNameError\u001b[0m: name 'pdfReader' is not defined"
     ]
    }
   ],
   "source": [
    "page_strt=255\n",
    "text=\"\"\n",
    "subject=\"\"\n",
    "pageObj1=pdfReader.getPage(page_strt)\n",
    "subject+=pageObj1.extractText()\n",
    "tokens=word_tokenize(subject)\n",
    "punctuation=['(',')','[',']',';',':',',','*']\n",
    "keywords=[word for word in tokens if not word in punctuation]\n",
    "# print(keywords)\n",
    "subject=[]\n",
    "i=1\n",
    "for k in keywords:\n",
    "    if (k.startswith(\"ET\")):\n",
    "      sb=keywords.index(k)\n",
    "      subject.append(keywords[sb-1])\n",
    "      i=i+1\n",
    "print(subject)  \n",
    "count=256 #page where result starts\n",
    "numpageend=262\n",
    "while(count<=numpageend):\n",
    "  pageObj=pdfReader.getPage(count)\n",
    "  text+=pageObj.extractText()\n",
    "  count+=1\n",
    "#print(text)\n",
    "tokens=word_tokenize(text)\n",
    "punctuation=['(',')','[',']',';',':',',','*']\n",
    "keywords=[word for word in tokens if not word in punctuation]\n",
    "print(keywords)\n",
    "roll=[]\n",
    "j1=[]\n",
    "for k in keywords:\n",
    "    if (k.endswith(\"20902717\")) or (k.endswith(\"20907218\")):\n",
    "      j1.append(keywords.index(k))\n",
    "      roll.append(k)\n",
    "length=len(keywords)\n",
    "def abc(item):\n",
    "  #print(item)\n",
    "  j=-1\n",
    "  locs=[]\n",
    "  \n",
    "  while True:\n",
    "    try:\n",
    "      loc = keywords.index(item,j+1)\n",
    "    except ValueError:\n",
    "      break\n",
    "    else:\n",
    "      locs.append(loc)\n",
    "      j = loc\n",
    "  return locs\n",
    "    \n",
    "  \n",
    "    \n",
    "#dict['name']=\n",
    "'''i=keywords.index(\"00120902717\")\n",
    "j=keywords.index(\"00220902717\")\n",
    "k=keywords.index(\"00420902717\")\n",
    "l=keywords.index(\"00520902717\")'''\n",
    "#print(i,j,k,l)\n",
    "length=len(keywords)\n",
    "name=[]\n",
    "#subject[0]=[]\n",
    "sub1=['Maths','COA','TOC','DBMS','OOPS','CS','NCC','AM LAB','COA lab','DBMS lab','CS lab','OOps lab']\n",
    "i=0\n",
    "d1=abc(subject[0])\n",
    "print(len(d1))\n",
    "print(len(j1))\n",
    "sub=[None] * (len(sub1))\n",
    "for m1 in range(len(subject)):\n",
    " \n",
    "  sub[m1]=[]\n",
    "  d1=abc(str(subject[m1]))\n",
    "  i=0\n",
    "  #print(len(d1),\"hi\")\n",
    "  while(i<len(d1)):\n",
    "    sub[m1].append(keywords[d1[i]+4])\n",
    "    i+=1\n",
    "i=0\n",
    "while(i<len(j1)):\n",
    "  name.append(keywords[j1[i]+1])\n",
    "  i+=1  \n",
    "    \n",
    " \n",
    "print(roll)  \n",
    "print(name)\n",
    "print(sub[0])\n",
    "df=pd.DataFrame({'Roll No.':roll,'Name':name,sub1[0]:sub[0],sub1[1]:sub[1],sub1[2]:sub[2],sub1[3]:sub[3],sub1[4]:sub[4],sub1[5]:sub[5],sub1[6]:sub[6],sub1[7]:sub[7],sub1[8]:sub[8],sub1[9]:sub[9],sub1[10]:sub[10],sub1[11]:sub[11]})\n",
    "df.to_csv(\"Res.csv\",index='false')\n",
    "\n",
    "print(d1)\n",
    "pdfFileObj.close()"
   ]
  },
  {
   "cell_type": "code",
   "execution_count": 20,
   "metadata": {},
   "outputs": [
    {
     "name": "stdout",
     "output_type": "stream",
     "text": [
      "['Maths', 'COA', 'TOC', 'DBMS', 'OOPS', 'CS', 'NCC', 'AM LAB', 'COA lab', 'DBMS lab', 'CS lab', 'OOps lab']\n",
      "4.1404548654090764e+23\n"
     ]
    },
    {
     "name": "stderr",
     "output_type": "stream",
     "text": [
      "SettingWithCopyWarning: \n",
      "A value is trying to be set on a copy of a slice from a DataFrame.\n",
      "Try using .loc[row_indexer,col_indexer] = value instead\n",
      "\n",
      "See the caveats in the documentation: http://pandas.pydata.org/pandas-docs/stable/indexing.html#indexing-view-versus-copy [ipykernel_launcher.py:10]\n"
     ]
    }
   ],
   "source": [
    "#Work in progress\n",
    "data = pd.read_csv(\"Res.csv\") \n",
    "\n",
    "# col_list=list(data)\n",
    "# li=['Roll No.','Name']\n",
    "# col_list.remove(li)\n",
    "\n",
    "df1 = df.iloc[:,2:]\n",
    "col_list=list(df1)\n",
    "print(col_list)\n",
    "df1['s']=df1[col_list].sum(axis=1)\n",
    "print(df1['s'][0])"
   ]
  },
  {
   "cell_type": "code",
   "execution_count": null,
   "metadata": {},
   "outputs": [],
   "source": []
  }
 ],
 "metadata": {
  "kernelspec": {
   "display_name": "Python 3",
   "language": "python",
   "name": "python3"
  },
  "language_info": {
   "codemirror_mode": {
    "name": "ipython",
    "version": 3
   },
   "file_extension": ".py",
   "mimetype": "text/x-python",
   "name": "python",
   "nbconvert_exporter": "python",
   "pygments_lexer": "ipython3",
   "version": "3.7.3"
  }
 },
 "nbformat": 4,
 "nbformat_minor": 2
}
